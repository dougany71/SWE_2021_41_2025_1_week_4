{
  "nbformat": 4,
  "nbformat_minor": 0,
  "metadata": {
    "colab": {
      "provenance": []
    },
    "kernelspec": {
      "name": "python3",
      "display_name": "Python 3"
    },
    "language_info": {
      "name": "python"
    }
  },
  "cells": [
    {
      "cell_type": "code",
      "execution_count": 17,
      "metadata": {
        "id": "BQX6RkP2tBsY"
      },
      "outputs": [],
      "source": [
        "def isHappy (n):\n",
        "  track = set()\n",
        "  while n not in track:\n",
        "    track.add\n",
        "    total = 0\n",
        "    while n > 0:\n",
        "      digit = n % 10\n",
        "      total += digit ** 2\n",
        "      n //= 10\n",
        "    n = total\n",
        "  return n == 1"
      ]
    }
  ]
}